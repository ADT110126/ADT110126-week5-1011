{
 "cells": [
  {
   "cell_type": "code",
   "execution_count": 3,
   "id": "a888ff7d",
   "metadata": {},
   "outputs": [
    {
     "name": "stdout",
     "output_type": "stream",
     "text": [
      "標題：林秉廉的個人檔案zh-tw.facebook.com › public › 林秉廉\n",
      "網址：/url?q=https://zh-tw.facebook.com/public/%25E6%259E%2597%25E7%25A7%2589%25E5%25BB%2589&sa=U&ved=2ahUKEwiMnvvNtv-BAxWK0GEKHU3dANkQFnoECAEQAg&usg=AOvVaw37Ov2wrifqP3qWG65nv8Y2\n",
      "\n",
      "標題：正揚室內裝潢設計有限公司 - 台灣公司網www.twincn.com › item\n",
      "網址：/url?q=https://www.twincn.com/item.aspx%3Fno%3D84353626&sa=U&ved=2ahUKEwiMnvvNtv-BAxWK0GEKHU3dANkQFnoECAQQAg&usg=AOvVaw1I7UBPwkEQAn0Mv32i9L3k\n",
      "\n",
      "標題：新聞公告-公示催告-林秉廉 - 臺灣臺北地方法院tpd.judicial.gov.tw › ...\n",
      "網址：/url?q=https://tpd.judicial.gov.tw/tw/cp-7585-1455285-e045f-151.html&sa=U&ved=2ahUKEwiMnvvNtv-BAxWK0GEKHU3dANkQFnoECAcQAg&usg=AOvVaw2wnD6FwJskNYMa_8Tht8cT\n",
      "\n",
      "標題：林秉廉 (@issac1313) • Instagram photos and videoswww.instagram.com › issac1313\n",
      "網址：/url?q=https://www.instagram.com/issac1313/&sa=U&ved=2ahUKEwiMnvvNtv-BAxWK0GEKHU3dANkQFnoECAYQAg&usg=AOvVaw0EqsG_G4p4bKqWClMQtKXF\n",
      "\n",
      "標題：林秉廉 (@lbinglian) • Instagram photos and videoswww.instagram.com › lbinglian\n",
      "網址：/url?q=https://www.instagram.com/lbinglian/&sa=U&ved=2ahUKEwiMnvvNtv-BAxWK0GEKHU3dANkQFnoECAMQAg&usg=AOvVaw2q1ahAd7ou0M9xczqC2TkF\n",
      "\n",
      "標題：林秉廉的負責人,董監事,合夥人,經理人查詢www.twfile.com › q=林秉廉\n",
      "網址：/url?q=https://www.twfile.com/Lp.aspx%3Fq%3D%25E6%259E%2597%25E7%25A7%2589%25E5%25BB%2589&sa=U&ved=2ahUKEwiMnvvNtv-BAxWK0GEKHU3dANkQFnoECAgQAg&usg=AOvVaw2MB2w4N5RnLw3SQIGXY4p8\n",
      "\n",
      "標題：正揚室內裝潢設計有限公司www.twfile.com › 正揚室內裝潢設計有限公司\n",
      "網址：/url?q=https://www.twfile.com/%25E6%25AD%25A3%25E6%258F%259A%25E5%25AE%25A4%25E5%2585%25A7%25E8%25A3%259D%25E6%25BD%25A2%25E8%25A8%25AD%25E8%25A8%2588%25E6%259C%2589%25E9%2599%2590%25E5%2585%25AC%25E5%258F%25B8/84353626&sa=U&ved=2ahUKEwiMnvvNtv-BAxWK0GEKHU3dANkQFnoECAUQAg&usg=AOvVaw3bHzjRgTAexxqM9UDJAZsm\n",
      "\n",
      "標題：正揚室內裝潢設計有限公司 - 公司登記查詢中心www.findcompany.com.tw › 正揚室內裝潢設計有限公司\n",
      "網址：/url?q=https://www.findcompany.com.tw/%25E6%25AD%25A3%25E6%258F%259A%25E5%25AE%25A4%25E5%2585%25A7%25E8%25A3%259D%25E6%25BD%25A2%25E8%25A8%25AD%25E8%25A8%2588%25E6%259C%2589%25E9%2599%2590%25E5%2585%25AC%25E5%258F%25B8&sa=U&ved=2ahUKEwiMnvvNtv-BAxWK0GEKHU3dANkQFnoECAAQAg&usg=AOvVaw0q7Lqq8DBDArgpCPMiAivt\n",
      "\n",
      "標題：專題計畫貢獻度www.tges.chc.edu.tw › tges › jesus › jesus1 › qna\n",
      "網址：/url?q=http://www.tges.chc.edu.tw/tges/jesus/jesus1/qna.html&sa=U&ved=2ahUKEwiMnvvNtv-BAxWK0GEKHU3dANkQFnoECAIQAg&usg=AOvVaw21AXsal-gqvK9v5rwPQshk\n",
      "\n"
     ]
    }
   ],
   "source": [
    "# Google搜尋\n",
    "import requests\n",
    "from bs4 import BeautifulSoup\n",
    "\n",
    "# Google 搜尋 URL\n",
    "google_url = 'https://www.google.com.tw/search'\n",
    "\n",
    "# 查詢參數\n",
    "my_params = {'q': '林秉廉'}\n",
    "\n",
    "# 下載 Google 搜尋結果\n",
    "r = requests.get(google_url, params = my_params)\n",
    "\n",
    "# 確認是否下載成功\n",
    "if r.status_code == requests.codes.ok:\n",
    "  # 以 BeautifulSoup 解析 HTML 原始碼\n",
    "  soup = BeautifulSoup(r.text, 'html.parser')\n",
    "\n",
    "  # 觀察 HTML 原始碼\n",
    "  #print(soup.prettify())\n",
    "\n",
    "  # 以 CSS 的選擇器來抓取 Google 的搜尋結果\n",
    "  items = soup.select('div.kCrYT > a[href^=\"/url\"]')\n",
    " \n",
    "  for i in items:\n",
    "    # 標題\n",
    "    print(\"標題：\" + i.text)\n",
    "    # 網址\n",
    "    print(\"網址：\" + i.get('href'))\n",
    "    print()"
   ]
  },
  {
   "cell_type": "code",
   "execution_count": null,
   "id": "e7fb21cf",
   "metadata": {},
   "outputs": [],
   "source": []
  }
 ],
 "metadata": {
  "kernelspec": {
   "display_name": "Python 3 (ipykernel)",
   "language": "python",
   "name": "python3"
  },
  "language_info": {
   "codemirror_mode": {
    "name": "ipython",
    "version": 3
   },
   "file_extension": ".py",
   "mimetype": "text/x-python",
   "name": "python",
   "nbconvert_exporter": "python",
   "pygments_lexer": "ipython3",
   "version": "3.11.5"
  }
 },
 "nbformat": 4,
 "nbformat_minor": 5
}
